{
 "cells": [
  {
   "cell_type": "code",
   "execution_count": 2,
   "metadata": {},
   "outputs": [],
   "source": [
    "import os\n",
    "import ast\n",
    "import pandas as pd"
   ]
  },
  {
   "cell_type": "code",
   "execution_count": 3,
   "metadata": {},
   "outputs": [],
   "source": [
    "DATA_PATH = \"original\" "
   ]
  },
  {
   "cell_type": "code",
   "execution_count": 4,
   "metadata": {},
   "outputs": [
    {
     "data": {
      "text/html": [
       "<div>\n",
       "<style scoped>\n",
       "    .dataframe tbody tr th:only-of-type {\n",
       "        vertical-align: middle;\n",
       "    }\n",
       "\n",
       "    .dataframe tbody tr th {\n",
       "        vertical-align: top;\n",
       "    }\n",
       "\n",
       "    .dataframe thead th {\n",
       "        text-align: right;\n",
       "    }\n",
       "</style>\n",
       "<table border=\"1\" class=\"dataframe\">\n",
       "  <thead>\n",
       "    <tr style=\"text-align: right;\">\n",
       "      <th></th>\n",
       "      <th>sequence</th>\n",
       "      <th>base_pairs</th>\n",
       "    </tr>\n",
       "    <tr>\n",
       "      <th>id</th>\n",
       "      <th></th>\n",
       "      <th></th>\n",
       "    </tr>\n",
       "  </thead>\n",
       "  <tbody>\n",
       "    <tr>\n",
       "      <th>bpRNA_RFAM_37268</th>\n",
       "      <td>CGCGACGGCGAGCAAUCGCCAGCGUGACUGAUCAGGAGUCAGCAGA...</td>\n",
       "      <td>[[2, 25], [4, 23], [7, 20], [8, 19], [9, 18], ...</td>\n",
       "    </tr>\n",
       "    <tr>\n",
       "      <th>bpRNA_RFAM_12641</th>\n",
       "      <td>CUCUGGUAACUAGAGAUCCCUCAGACCCUUUUAGUCAGUGUGAAAA...</td>\n",
       "      <td>[[2, 98], [3, 97], [4, 96], [5, 95], [6, 94], ...</td>\n",
       "    </tr>\n",
       "    <tr>\n",
       "      <th>bpRNA_RFAM_21314</th>\n",
       "      <td>UUUAUGGGAUACACCAAGUUCAGUUUUGUCGCAUUCCACGAGCAUC...</td>\n",
       "      <td>[[2, 69], [3, 68], [4, 67], [5, 66], [6, 65], ...</td>\n",
       "    </tr>\n",
       "    <tr>\n",
       "      <th>bpRNA_CRW_42535</th>\n",
       "      <td>GGGCCGGUAGCUCAUUUAGGCAGAGCGUCUGACUCUUAAUCAGACG...</td>\n",
       "      <td>[[1, 73], [2, 72], [3, 71], [4, 70], [5, 69], ...</td>\n",
       "    </tr>\n",
       "    <tr>\n",
       "      <th>bpRNA_RFAM_11145</th>\n",
       "      <td>GACAACUGCUAAGUGAUUUAGGUAGUUUUAUGUUGUUGGGCUCUAU...</td>\n",
       "      <td>[[5, 89], [6, 88], [7, 87], [8, 86], [13, 81],...</td>\n",
       "    </tr>\n",
       "    <tr>\n",
       "      <th>...</th>\n",
       "      <td>...</td>\n",
       "      <td>...</td>\n",
       "    </tr>\n",
       "    <tr>\n",
       "      <th>CP007653.1_1278983-1278851</th>\n",
       "      <td>UUCUUUCCAAACGAUUUGAAGUUGCAGAACCUGAAAUGGCAGAUAG...</td>\n",
       "      <td>[[2, 132], [3, 131], [4, 130], [5, 129], [6, 1...</td>\n",
       "    </tr>\n",
       "    <tr>\n",
       "      <th>URS0000D68500_12908_1-68</th>\n",
       "      <td>AAAAAGUAGAAACCAGAAACUACUAAAAAAACGGGGAUAAAUCCGA...</td>\n",
       "      <td>[[6, 23], [7, 22], [8, 21], [9, 20], [35, 52],...</td>\n",
       "    </tr>\n",
       "    <tr>\n",
       "      <th>URS0000D6B7C1_12908_1-41</th>\n",
       "      <td>CCGUUCAACUCGCCCCUCCCCGGACGAGGGGCGUACGGGAG</td>\n",
       "      <td>[[12, 32], [13, 31], [14, 30], [15, 29], [16, ...</td>\n",
       "    </tr>\n",
       "    <tr>\n",
       "      <th>URS0000D6A34B_12908_1-152</th>\n",
       "      <td>UUAUAUUGCAGAUAGGAAAGGGAUUCACCAAAAAUGGUUUGUCCUU...</td>\n",
       "      <td>[[7, 71], [8, 70], [9, 69], [10, 68], [11, 67]...</td>\n",
       "    </tr>\n",
       "    <tr>\n",
       "      <th>URS0000D68124_12908_1-252</th>\n",
       "      <td>UUAAAUCUUGCCGUUAUAUUUAGUUACAAAAUUUAUGUUCUAGCAG...</td>\n",
       "      <td>[[34, 52], [35, 51], [36, 50], [37, 49], [38, ...</td>\n",
       "    </tr>\n",
       "  </tbody>\n",
       "</table>\n",
       "<p>18820 rows × 2 columns</p>\n",
       "</div>"
      ],
      "text/plain": [
       "                                                                     sequence  \\\n",
       "id                                                                              \n",
       "bpRNA_RFAM_37268            CGCGACGGCGAGCAAUCGCCAGCGUGACUGAUCAGGAGUCAGCAGA...   \n",
       "bpRNA_RFAM_12641            CUCUGGUAACUAGAGAUCCCUCAGACCCUUUUAGUCAGUGUGAAAA...   \n",
       "bpRNA_RFAM_21314            UUUAUGGGAUACACCAAGUUCAGUUUUGUCGCAUUCCACGAGCAUC...   \n",
       "bpRNA_CRW_42535             GGGCCGGUAGCUCAUUUAGGCAGAGCGUCUGACUCUUAAUCAGACG...   \n",
       "bpRNA_RFAM_11145            GACAACUGCUAAGUGAUUUAGGUAGUUUUAUGUUGUUGGGCUCUAU...   \n",
       "...                                                                       ...   \n",
       "CP007653.1_1278983-1278851  UUCUUUCCAAACGAUUUGAAGUUGCAGAACCUGAAAUGGCAGAUAG...   \n",
       "URS0000D68500_12908_1-68    AAAAAGUAGAAACCAGAAACUACUAAAAAAACGGGGAUAAAUCCGA...   \n",
       "URS0000D6B7C1_12908_1-41            CCGUUCAACUCGCCCCUCCCCGGACGAGGGGCGUACGGGAG   \n",
       "URS0000D6A34B_12908_1-152   UUAUAUUGCAGAUAGGAAAGGGAUUCACCAAAAAUGGUUUGUCCUU...   \n",
       "URS0000D68124_12908_1-252   UUAAAUCUUGCCGUUAUAUUUAGUUACAAAAUUUAUGUUCUAGCAG...   \n",
       "\n",
       "                                                                   base_pairs  \n",
       "id                                                                             \n",
       "bpRNA_RFAM_37268            [[2, 25], [4, 23], [7, 20], [8, 19], [9, 18], ...  \n",
       "bpRNA_RFAM_12641            [[2, 98], [3, 97], [4, 96], [5, 95], [6, 94], ...  \n",
       "bpRNA_RFAM_21314            [[2, 69], [3, 68], [4, 67], [5, 66], [6, 65], ...  \n",
       "bpRNA_CRW_42535             [[1, 73], [2, 72], [3, 71], [4, 70], [5, 69], ...  \n",
       "bpRNA_RFAM_11145            [[5, 89], [6, 88], [7, 87], [8, 86], [13, 81],...  \n",
       "...                                                                       ...  \n",
       "CP007653.1_1278983-1278851  [[2, 132], [3, 131], [4, 130], [5, 129], [6, 1...  \n",
       "URS0000D68500_12908_1-68    [[6, 23], [7, 22], [8, 21], [9, 20], [35, 52],...  \n",
       "URS0000D6B7C1_12908_1-41    [[12, 32], [13, 31], [14, 30], [15, 29], [16, ...  \n",
       "URS0000D6A34B_12908_1-152   [[7, 71], [8, 70], [9, 69], [10, 68], [11, 67]...  \n",
       "URS0000D68124_12908_1-252   [[34, 52], [35, 51], [36, 50], [37, 49], [38, ...  \n",
       "\n",
       "[18820 rows x 2 columns]"
      ]
     },
     "execution_count": 4,
     "metadata": {},
     "output_type": "execute_result"
    }
   ],
   "source": [
    "refs_bp = pd.read_csv(f\"{DATA_PATH}/TR0-TS0.csv\", index_col=\"id\")\n",
    "refs_bp"
   ]
  },
  {
   "cell_type": "code",
   "execution_count": 4,
   "metadata": {},
   "outputs": [
    {
     "data": {
      "text/html": [
       "<div>\n",
       "<style scoped>\n",
       "    .dataframe tbody tr th:only-of-type {\n",
       "        vertical-align: middle;\n",
       "    }\n",
       "\n",
       "    .dataframe tbody tr th {\n",
       "        vertical-align: top;\n",
       "    }\n",
       "\n",
       "    .dataframe thead th {\n",
       "        text-align: right;\n",
       "    }\n",
       "</style>\n",
       "<table border=\"1\" class=\"dataframe\">\n",
       "  <thead>\n",
       "    <tr style=\"text-align: right;\">\n",
       "      <th></th>\n",
       "      <th>folding</th>\n",
       "      <th>method</th>\n",
       "    </tr>\n",
       "    <tr>\n",
       "      <th>id</th>\n",
       "      <th></th>\n",
       "      <th></th>\n",
       "    </tr>\n",
       "  </thead>\n",
       "  <tbody>\n",
       "    <tr>\n",
       "      <th>bpRNA_RFAM_4878</th>\n",
       "      <td>.....((((((....))))))((((............)))).....</td>\n",
       "      <td>MXfold2</td>\n",
       "    </tr>\n",
       "    <tr>\n",
       "      <th>bpRNA_RFAM_21093</th>\n",
       "      <td>...............(.(((.(.........(((....)))........</td>\n",
       "      <td>MXfold2</td>\n",
       "    </tr>\n",
       "    <tr>\n",
       "      <th>bpRNA_RFAM_27096</th>\n",
       "      <td>..............................(((((((((...((((...</td>\n",
       "      <td>MXfold2</td>\n",
       "    </tr>\n",
       "    <tr>\n",
       "      <th>bpRNA_CRW_54070</th>\n",
       "      <td>(((((((........(((.......((((.((((...............</td>\n",
       "      <td>MXfold2</td>\n",
       "    </tr>\n",
       "    <tr>\n",
       "      <th>bpRNA_RFAM_19896</th>\n",
       "      <td>...((((...(((.(((((.(..(((((((((((.((..((((..(...</td>\n",
       "      <td>MXfold2</td>\n",
       "    </tr>\n",
       "    <tr>\n",
       "      <th>...</th>\n",
       "      <td>...</td>\n",
       "      <td>...</td>\n",
       "    </tr>\n",
       "    <tr>\n",
       "      <th>bpRNA_RFAM_10893</th>\n",
       "      <td>(((((((....))))))).....................(.(((((...</td>\n",
       "      <td>LinearPartition-C</td>\n",
       "    </tr>\n",
       "    <tr>\n",
       "      <th>bpRNA_RFAM_22060</th>\n",
       "      <td>....((((((((((((((((((((.....)))))))))))))))))...</td>\n",
       "      <td>LinearPartition-C</td>\n",
       "    </tr>\n",
       "    <tr>\n",
       "      <th>bpRNA_RFAM_36491</th>\n",
       "      <td>....((((((......(.(((((((((((......)))))))))))...</td>\n",
       "      <td>LinearPartition-C</td>\n",
       "    </tr>\n",
       "    <tr>\n",
       "      <th>bpRNA_RFAM_39774</th>\n",
       "      <td>..((((((.....))))))............(((((..((((((((...</td>\n",
       "      <td>LinearPartition-C</td>\n",
       "    </tr>\n",
       "    <tr>\n",
       "      <th>bpRNA_RFAM_41348</th>\n",
       "      <td>((((.....))))..(((((.((.....)).))))).......(((...</td>\n",
       "      <td>LinearPartition-C</td>\n",
       "    </tr>\n",
       "  </tbody>\n",
       "</table>\n",
       "<p>7806 rows × 2 columns</p>\n",
       "</div>"
      ],
      "text/plain": [
       "                                                            folding  \\\n",
       "id                                                                    \n",
       "bpRNA_RFAM_4878      .....((((((....))))))((((............)))).....   \n",
       "bpRNA_RFAM_21093  ...............(.(((.(.........(((....)))........   \n",
       "bpRNA_RFAM_27096  ..............................(((((((((...((((...   \n",
       "bpRNA_CRW_54070   (((((((........(((.......((((.((((...............   \n",
       "bpRNA_RFAM_19896  ...((((...(((.(((((.(..(((((((((((.((..((((..(...   \n",
       "...                                                             ...   \n",
       "bpRNA_RFAM_10893  (((((((....))))))).....................(.(((((...   \n",
       "bpRNA_RFAM_22060  ....((((((((((((((((((((.....)))))))))))))))))...   \n",
       "bpRNA_RFAM_36491  ....((((((......(.(((((((((((......)))))))))))...   \n",
       "bpRNA_RFAM_39774  ..((((((.....))))))............(((((..((((((((...   \n",
       "bpRNA_RFAM_41348  ((((.....))))..(((((.((.....)).))))).......(((...   \n",
       "\n",
       "                             method  \n",
       "id                                   \n",
       "bpRNA_RFAM_4878             MXfold2  \n",
       "bpRNA_RFAM_21093            MXfold2  \n",
       "bpRNA_RFAM_27096            MXfold2  \n",
       "bpRNA_CRW_54070             MXfold2  \n",
       "bpRNA_RFAM_19896            MXfold2  \n",
       "...                             ...  \n",
       "bpRNA_RFAM_10893  LinearPartition-C  \n",
       "bpRNA_RFAM_22060  LinearPartition-C  \n",
       "bpRNA_RFAM_36491  LinearPartition-C  \n",
       "bpRNA_RFAM_39774  LinearPartition-C  \n",
       "bpRNA_RFAM_41348  LinearPartition-C  \n",
       "\n",
       "[7806 rows x 2 columns]"
      ]
     },
     "execution_count": 4,
     "metadata": {},
     "output_type": "execute_result"
    }
   ],
   "source": [
    "predictions = pd.read_csv(f\"{RESULTS_PATH}TR0-TS0.csv\", index_col=\"id\")\n",
    "predictions"
   ]
  },
  {
   "cell_type": "code",
   "execution_count": 5,
   "metadata": {},
   "outputs": [],
   "source": [
    "def f1_strict(ref_bp, pre_bp):\n",
    "    \"\"\"F1 score strict, same as triangular but less efficient\"\"\"\n",
    "    # corner case when there are no positives\n",
    "    if len(ref_bp) == 0 and len(pre_bp) == 0:\n",
    "        return 1.0, 1.0, 1.0\n",
    "\n",
    "    tp1 = 0\n",
    "    for rbp in ref_bp:\n",
    "        if rbp in pre_bp:\n",
    "            tp1 = tp1 + 1\n",
    "    tp2 = 0\n",
    "    for pbp in pre_bp:\n",
    "        if pbp in ref_bp:\n",
    "            tp2 = tp2 + 1\n",
    "\n",
    "    fn = len(ref_bp) - tp1\n",
    "    fp = len(pre_bp) - tp1\n",
    "\n",
    "    tpr = pre = f1 = 0.0\n",
    "    if tp1 + fn > 0:\n",
    "        tpr = tp1 / float(tp1 + fn)  # sensitivity (=recall =power)\n",
    "    if tp1 + fp > 0:\n",
    "        pre = tp2 / float(tp1 + fp)  # precision (=ppv)\n",
    "    if tpr + pre > 0:\n",
    "        f1 = 2 * pre * tpr / (pre + tpr)  # F1 score\n",
    "\n",
    "    return tpr, pre, f1\n",
    "\n",
    "\n",
    "# All possible matching brackets for base pairing\n",
    "MATCHING_BRACKETS = [\n",
    "    [\"(\", \")\"],\n",
    "    [\"[\", \"]\"],\n",
    "    [\"{\", \"}\"],\n",
    "    [\"<\", \">\"],\n",
    "    [\"A\", \"a\"],\n",
    "    [\"B\", \"a\"],\n",
    "]\n",
    "# Normalization.\n",
    "BRACKET_DICT = {\"!\": \"A\", \"?\": \"a\", \"C\": \"B\", \"D\": \"b\"}\n",
    "\n",
    "def fold2bp(struc, xop=\"(\", xcl=\")\"):\n",
    "    \"\"\"Get base pairs from one page folding (using only one type of brackets).\n",
    "    BP are 1-indexed\"\"\"\n",
    "    openxs = []\n",
    "    bps = []\n",
    "    if struc.count(xop) != struc.count(xcl):\n",
    "        return False\n",
    "    for i, x in enumerate(struc):\n",
    "        if x == xop:\n",
    "            openxs.append(i)\n",
    "        elif x == xcl:\n",
    "            if len(openxs) > 0:\n",
    "                bps.append([openxs.pop() + 1, i + 1])\n",
    "            else:\n",
    "                return False\n",
    "    return bps\n",
    "\n",
    "def dot2bp(struc):\n",
    "    bp = []\n",
    "    if not set(struc).issubset(\n",
    "        set([\".\"] + [c for par in MATCHING_BRACKETS for c in par])\n",
    "    ):\n",
    "        return False\n",
    "\n",
    "    for brackets in MATCHING_BRACKETS:\n",
    "        if brackets[0] in struc:\n",
    "            bpk = fold2bp(struc, brackets[0], brackets[1])\n",
    "            if bpk:\n",
    "                bp = bp + bpk\n",
    "            else:\n",
    "                return False\n",
    "    return list(sorted(bp))"
   ]
  },
  {
   "cell_type": "code",
   "execution_count": 5,
   "metadata": {},
   "outputs": [],
   "source": [
    "def get_motif_1nts_OLD(st_file, motif_id=\"S\"):\n",
    "    \n",
    "    data = pd.read_csv(st_file, skiprows=7, index_col=0, delimiter=' ', usecols=[0,1], header=None)\n",
    "    #print(data.head)\n",
    "\n",
    "    # extract all the numeric ranges in column 1 if the index start with the character \"S\"\n",
    "    dataS = data[data.index.str.startswith(motif_id)].reset_index()\n",
    "    #print(dataS)\n",
    "\n",
    "    ranges = dataS[1].str.extractall(r'(\\d+)..(\\d+)').astype(int)\n",
    "    #print(ranges)\n",
    "\n",
    "    # create a set with all nucleotides in these ranges\n",
    "    nts_in_ranges = set()\n",
    "    for start, end in ranges.values:\n",
    "        nts_in_ranges.update(range(start, end+1))\n",
    "\n",
    "    return nts_in_ranges\n",
    "# test\n",
    "#init_nt_set = get_motf_1nts(\"bpRNA_CRW_54567.st\", \"S\")\n",
    "#init_nt_set"
   ]
  },
  {
   "cell_type": "code",
   "execution_count": null,
   "metadata": {},
   "outputs": [
    {
     "name": "stdout",
     "output_type": "stream",
     "text": [
      "{1, 2, 3, 4, 5, 6, 7, 8, 9, 14, 15, 16, 17, 18, 19, 20, 21, 27, 28, 29, 30, 31, 32, 67, 68, 69, 70, 71, 78, 79, 80, 81, 82, 84, 85, 86}\n",
      "{1, 2, 3, 4, 5, 6, 7, 8, 9, 14, 15, 16, 17, 18, 19, 20, 21, 27, 28, 29, 30, 31, 32, 67, 68, 69, 70, 71, 78, 79, 80, 81, 82, 84, 85, 86}\n"
     ]
    }
   ],
   "source": [
    "def get_motif_1nts(st_file, motif_id=\"S\"):\n",
    "    \n",
    "    ranges = []\n",
    "    with open(st_file, 'r') as file:\n",
    "        rlines = 0\n",
    "        for line in file:\n",
    "            if not line.startswith('#'):\n",
    "                rlines = rlines + 1\n",
    "                #print(rlines, line)\n",
    "                if rlines > 4 and line.startswith(motif_id):\n",
    "                    if line.startswith(motif_id):\n",
    "                        parts = line.split()\n",
    "                        start = int(parts[1].split('..')[0])\n",
    "                        end = int(parts[1].split('..')[1])\n",
    "                        ranges.append((start, end))\n",
    "\n",
    "    nts_in_ranges = set()\n",
    "    for start, end in ranges:\n",
    "        nts_in_ranges.update(range(start, end+1))\n",
    "\n",
    "    return nts_in_ranges\n",
    "\n",
    "# test\n",
    "filename = \"original/seqs/5s_Acanthamoeba-castellanii-1.st\"\n",
    "motif_id = 'S'\n",
    "\n",
    "print(get_motif_1nts(filename, motif_id))\n",
    "print(get_motif_1nts_OLD(filename, motif_id))"
   ]
  },
  {
   "cell_type": "code",
   "execution_count": 38,
   "metadata": {},
   "outputs": [
    {
     "data": {
      "text/plain": [
       "'SSSSSSSSSMMMMSSSSSSSSIIIIISSSSSSHHHHHHHHHHHHSSSSBBSSIIIISSSSSSBSSMSSSSSIIIIIISSSSSBSSSHHHHSSSSSSSSIIIIISSSSSMSSSSSSSSSE'"
      ]
     },
     "execution_count": 38,
     "metadata": {},
     "output_type": "execute_result"
    }
   ],
   "source": [
    "df[df['id'] == '5s_Acanthamoeba-castellanii-1']['motivos'].item()"
   ]
  },
  {
   "cell_type": "code",
   "execution_count": 13,
   "metadata": {},
   "outputs": [
    {
     "name": "stdout",
     "output_type": "stream",
     "text": [
      "Índices de 'S' en la secuencia:  {0, 1, 2, 3, 4, 5, 6, 7, 8, 13, 14, 15, 16, 17, 18, 19, 20, 26, 27, 28, 29, 30, 31, 44, 45, 46, 47, 50, 51, 56, 57, 58, 59, 60, 61, 63, 64, 66, 67, 68, 69, 70, 77, 78, 79, 80, 81, 83, 84, 85, 90, 91, 92, 93, 94, 95, 96, 97, 103, 104, 105, 106, 107, 109, 110, 111, 112, 113, 114, 115, 116, 117}\n"
     ]
    }
   ],
   "source": [
    "df = pd.read_csv('original/ArchiveII_with_motiv.csv')\n",
    "# Obtener la secuencia de motivos para la fila de interés\n",
    "motivos_seq = df[df['id'] == '5s_Acanthamoeba-castellanii-1']['motivos'].values[0]\n",
    "\n",
    "# Encontrar los índices donde aparece el motivo 'S'\n",
    "indices_S = {i for i, char in enumerate(motivos_seq) if char == 'S'}\n",
    "\n",
    "print(\"Índices de 'S' en la secuencia: \", indices_S)\n"
   ]
  },
  {
   "cell_type": "code",
   "execution_count": 33,
   "metadata": {},
   "outputs": [
    {
     "name": "stdout",
     "output_type": "stream",
     "text": [
      "GCUGUGUUAGUAUAAAGUAAUAUAUGUGAUUUCUAAUCAUGGGAUCCUUUAGGGACGUAGUACCA\n",
      "(((((((..((((......)))).(((((.......)))))...((((..)))))))))))....\n"
     ]
    }
   ],
   "source": [
    "print(df[df['id'] == 'tRNA_tdbR00000127-Halocynthia_roretzi-7729-Gly-UCU'].sequence.item())\n",
    "print(df[df['id'] == 'tRNA_tdbR00000127-Halocynthia_roretzi-7729-Gly-UCU'].structure.item())"
   ]
  },
  {
   "cell_type": "code",
   "execution_count": 15,
   "metadata": {},
   "outputs": [
    {
     "data": {
      "text/plain": [
       "36"
      ]
     },
     "execution_count": 15,
     "metadata": {},
     "output_type": "execute_result"
    }
   ],
   "source": [
    "x = get_motif_1nts_OLD(filename, motif_id)\n",
    "len(x)"
   ]
  },
  {
   "cell_type": "code",
   "execution_count": 16,
   "metadata": {},
   "outputs": [
    {
     "data": {
      "text/plain": [
       "72"
      ]
     },
     "execution_count": 16,
     "metadata": {},
     "output_type": "execute_result"
    }
   ],
   "source": [
    "len(indices_S)"
   ]
  },
  {
   "cell_type": "code",
   "execution_count": 8,
   "metadata": {},
   "outputs": [
    {
     "data": {
      "text/plain": [
       "0.6244160130298745"
      ]
     },
     "execution_count": 8,
     "metadata": {},
     "output_type": "execute_result"
    }
   ],
   "source": [
    "def f1_motif(preds, refs, motif_id=\"S\"):\n",
    "    # mean F1 score for a given motif\n",
    "\n",
    "    f1s = []\n",
    "    for seq_id, row in preds.iterrows():\n",
    "        # get the reference structure file\n",
    "        ref_st_file = f\"{DATA_PATH}bprna/TS0/{seq_id}.st\"\n",
    "\n",
    "        if os.path.exists(ref_st_file):\n",
    "\n",
    "            # get the nucleotides in the motif\n",
    "            nts_in_motif = get_motif_1nts(ref_st_file, motif_id)\n",
    "\n",
    "            ref_bp = ast.literal_eval(refs_bp.loc[seq_id, \"base_pairs\"])\n",
    "            \n",
    "            folding = row[\"folding\"]\n",
    "            if folding[0] in {'.', '(', ')'}:\n",
    "                pred_bp = dot2bp(folding)\n",
    "            else:\n",
    "                pred_bp = ast.literal_eval(folding)\n",
    "            \n",
    "            _, _, f1_full = f1_strict(ref_bp, pred_bp)\n",
    "            #print(seq_id,f1_full)\n",
    "\n",
    "            # remove base pairs with the first nucleotide not in nts_in_motif\n",
    "            ref_bp_motif = [bp for bp in ref_bp if bp[0] in nts_in_motif]\n",
    "            pred_bp_motif = [bp for bp in pred_bp if bp[0] in nts_in_motif]\n",
    "\n",
    "            _, _, f1_motif = f1_strict(ref_bp_motif, pred_bp_motif)\n",
    "            f1s.append(f1_motif)\n",
    "            #print(seq_id,f1_motif)\n",
    "    \n",
    "        else:\n",
    "            print(\"File does not exist:\", ref_st_file)\n",
    "    \n",
    "    return sum(f1s) / len(f1s)\n",
    "\n",
    "# test\n",
    "preds_bpXXX = predictions.iloc[[1,100,2001],:]\n",
    "f1_motif(preds_bpXXX, refs_bp, \"S\")"
   ]
  },
  {
   "cell_type": "code",
   "execution_count": 12,
   "metadata": {},
   "outputs": [
    {
     "name": "stdout",
     "output_type": "stream",
     "text": [
      "S\n",
      "MXfold2 0.5938106155190924\n",
      "UFold 0.715602438598144\n",
      "sincFold 0.6877777093556202\n",
      "RNAfold 0.6577189894406151\n",
      "REDfold 0.699317276122512\n",
      "LinearPartition-C 0.6697658957124076\n",
      "M\n",
      "MXfold2 0.7310344827586207\n",
      "UFold 0.7072419106317411\n",
      "sincFold 0.8551724137931035\n",
      "RNAfold 0.653639846743295\n",
      "REDfold 0.781055900621118\n",
      "LinearPartition-C 0.6942528735632184\n",
      "I\n",
      "MXfold2 0.5134099616858238\n",
      "UFold 0.41217257318952233\n",
      "sincFold 0.6344827586206897\n",
      "RNAfold 0.42605363984674327\n",
      "REDfold 0.484472049689441\n",
      "LinearPartition-C 0.4574712643678161\n",
      "B\n",
      "MXfold2 0.7808429118773946\n",
      "UFold 0.697226502311248\n",
      "sincFold 0.8605363984674329\n",
      "RNAfold 0.7195402298850575\n",
      "REDfold 0.796583850931677\n",
      "LinearPartition-C 0.7547892720306514\n",
      "H\n",
      "MXfold2 0.4559386973180077\n",
      "UFold 0.2781201848998459\n",
      "sincFold 0.5992337164750958\n",
      "RNAfold 0.2842911877394636\n",
      "REDfold 0.48990683229813664\n",
      "LinearPartition-C 0.3563218390804598\n",
      "E\n",
      "MXfold2 0.6835249042145594\n",
      "UFold 0.5238828967642527\n",
      "sincFold 0.7639846743295019\n",
      "RNAfold 0.41379310344827586\n",
      "REDfold 0.6816770186335404\n",
      "LinearPartition-C 0.5563218390804597\n",
      "X\n",
      "MXfold2 0.8750957854406131\n",
      "UFold 0.8151001540832049\n",
      "sincFold 0.9272030651340997\n",
      "RNAfold 0.8237547892720306\n",
      "REDfold 0.8734472049689441\n",
      "LinearPartition-C 0.8597701149425288\n"
     ]
    }
   ],
   "source": [
    "# from https://github.com/hendrixlab/bpRNA/blob/master/bpRNA.pl#L569\n",
    "# paired \"Stem\"     S\n",
    "# Multiloop \tM\n",
    "# Internal loop     I\n",
    "# Bulge \t        B\n",
    "# Hairpin loop      H\n",
    "# pseudoKnot\tK <<<<<<<<<<<<<<<< in .st files it is \"PK\" and pseudoKnots are in a different format\n",
    "# dangling End\tE\n",
    "# eXternal loop     X\n",
    "\n",
    "methods = predictions[\"method\"].unique()\n",
    "#motifs = ['B', 'E', 'H', 'I', 'S', 'X', 'M', 'K']\n",
    "motifs = ['S', 'M', 'I', 'B', 'H', 'E', 'X']\n",
    "# \n",
    "for motif_id in motifs:\n",
    "    print(motif_id)\n",
    "    for method in methods:\n",
    "        preds = predictions.loc[predictions[\"method\"] == method]\n",
    "        print(method, f1_motif(preds, refs_bp, motif_id))"
   ]
  }
 ],
 "metadata": {
  "kernelspec": {
   "display_name": "Experiments",
   "language": "python",
   "name": "python3"
  },
  "language_info": {
   "codemirror_mode": {
    "name": "ipython",
    "version": 3
   },
   "file_extension": ".py",
   "mimetype": "text/x-python",
   "name": "python",
   "nbconvert_exporter": "python",
   "pygments_lexer": "ipython3",
   "version": "3.10.16"
  }
 },
 "nbformat": 4,
 "nbformat_minor": 2
}
