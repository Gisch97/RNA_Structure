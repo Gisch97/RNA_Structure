{
 "cells": [
  {
   "cell_type": "code",
   "execution_count": 2,
   "id": "764bbebb",
   "metadata": {},
   "outputs": [],
   "source": [
    "import pandas as pd\n",
    "import numpy as np\n",
    "import matplotlib.pyplot as plt\n",
    "import seaborn as sns"
   ]
  },
  {
   "cell_type": "code",
   "execution_count": 6,
   "id": "659e17ff",
   "metadata": {},
   "outputs": [
    {
     "data": {
      "text/html": [
       "<div>\n",
       "<style scoped>\n",
       "    .dataframe tbody tr th:only-of-type {\n",
       "        vertical-align: middle;\n",
       "    }\n",
       "\n",
       "    .dataframe tbody tr th {\n",
       "        vertical-align: top;\n",
       "    }\n",
       "\n",
       "    .dataframe thead th {\n",
       "        text-align: right;\n",
       "    }\n",
       "</style>\n",
       "<table border=\"1\" class=\"dataframe\">\n",
       "  <thead>\n",
       "    <tr style=\"text-align: right;\">\n",
       "      <th></th>\n",
       "      <th>id</th>\n",
       "      <th>sequence</th>\n",
       "      <th>structure</th>\n",
       "      <th>base_pairs</th>\n",
       "      <th>len</th>\n",
       "      <th>motivos</th>\n",
       "      <th>fam</th>\n",
       "      <th>pseudo_probe</th>\n",
       "    </tr>\n",
       "  </thead>\n",
       "  <tbody>\n",
       "    <tr>\n",
       "      <th>0</th>\n",
       "      <td>5s_Acholeplasma-laidlawii-1</td>\n",
       "      <td>UCUGGUGACGAUAGGUAAGAUGGUUCACCUGUUCCCAUCCCGAACA...</td>\n",
       "      <td>((((((((......((((((((....((((((.............)...</td>\n",
       "      <td>[[1, 111], [2, 110], [3, 109], [4, 108], [5, 1...</td>\n",
       "      <td>112</td>\n",
       "      <td>SSSSSSSSMMMMMMSSSSSSSSIIIISSSSSSHHHHHHHHHHHHHS...</td>\n",
       "      <td>5s</td>\n",
       "      <td>[1, 1, 1, 1, 1, 1, 1, 1, 0, 0, 0, 0, 0, 0, 1, ...</td>\n",
       "    </tr>\n",
       "    <tr>\n",
       "      <th>1</th>\n",
       "      <td>5s_Acidovorax-temperans-1</td>\n",
       "      <td>UGCCUGAUGACCAUAGCAAGUUGGUACCACUCCUUCCCAUCCCGAA...</td>\n",
       "      <td>.(((((((((.....((((((((.....((((((...............</td>\n",
       "      <td>[[2, 115], [3, 114], [4, 113], [5, 112], [6, 1...</td>\n",
       "      <td>115</td>\n",
       "      <td>ESSSSSSSSSMMMMMSSSSSSSSIIIIISSSSSSHHHHHHHHHHHH...</td>\n",
       "      <td>5s</td>\n",
       "      <td>[0, 1, 1, 1, 1, 1, 1, 1, 1, 1, 0, 0, 0, 0, 0, ...</td>\n",
       "    </tr>\n",
       "    <tr>\n",
       "      <th>2</th>\n",
       "      <td>tmRNA_Stre.gord._TRW-29390_1-349</td>\n",
       "      <td>GGGGUCGUUACGGAUUCGACAGGCAUUAUGAGGCAUAUUUUGCGAC...</td>\n",
       "      <td>(((((((............((((((((....(((((((((..((((...</td>\n",
       "      <td>[[1, 345], [2, 344], [3, 343], [4, 342], [5, 3...</td>\n",
       "      <td>349</td>\n",
       "      <td>SSSSSSSMMMMMMMMMMMMSSSSSSSSIIIISSSSSSSSSIISSSS...</td>\n",
       "      <td>tmRNA</td>\n",
       "      <td>[1, 1, 1, 1, 1, 1, 1, 0, 0, 0, 0, 0, 0, 0, 0, ...</td>\n",
       "    </tr>\n",
       "    <tr>\n",
       "      <th>3</th>\n",
       "      <td>tRNA_tdbR00000055-Schizosaccharomyces_pombe-48...</td>\n",
       "      <td>UCCGUUGUGGUCCAACGGCUAGGAUUCGUCGCUUUCACCGACGGGA...</td>\n",
       "      <td>(((((((..((((........))))((((((.......)))))).....</td>\n",
       "      <td>[[1, 71], [2, 70], [3, 69], [4, 68], [5, 67], ...</td>\n",
       "      <td>75</td>\n",
       "      <td>SSSSSSSMMSSSSHHHHHHHHSSSSSSSSSSHHHHHHHSSSSSSMM...</td>\n",
       "      <td>tRNA</td>\n",
       "      <td>[1, 1, 1, 1, 1, 1, 1, 0, 0, 1, 1, 1, 1, 0, 0, ...</td>\n",
       "    </tr>\n",
       "    <tr>\n",
       "      <th>4</th>\n",
       "      <td>srp_List.mono._U15684</td>\n",
       "      <td>UGGGUUGAUGAGCGUGAAGCCUUCGCUCGGUUGGAUUUUUCUUCAU...</td>\n",
       "      <td>.(.((((...(.(.((.(.((..(.....)..)).)...(...(.....</td>\n",
       "      <td>[[2, 276], [4, 274], [5, 273], [6, 272], [7, 2...</td>\n",
       "      <td>279</td>\n",
       "      <td>ESISSSSIIISMSISSMSISSIISHHHHHSIISSISMMMSIIISHH...</td>\n",
       "      <td>srp</td>\n",
       "      <td>[0, 1, 0, 1, 1, 1, 1, 0, 0, 0, 1, 0, 1, 0, 1, ...</td>\n",
       "    </tr>\n",
       "  </tbody>\n",
       "</table>\n",
       "</div>"
      ],
      "text/plain": [
       "                                                  id  \\\n",
       "0                        5s_Acholeplasma-laidlawii-1   \n",
       "1                          5s_Acidovorax-temperans-1   \n",
       "2                   tmRNA_Stre.gord._TRW-29390_1-349   \n",
       "3  tRNA_tdbR00000055-Schizosaccharomyces_pombe-48...   \n",
       "4                              srp_List.mono._U15684   \n",
       "\n",
       "                                            sequence  \\\n",
       "0  UCUGGUGACGAUAGGUAAGAUGGUUCACCUGUUCCCAUCCCGAACA...   \n",
       "1  UGCCUGAUGACCAUAGCAAGUUGGUACCACUCCUUCCCAUCCCGAA...   \n",
       "2  GGGGUCGUUACGGAUUCGACAGGCAUUAUGAGGCAUAUUUUGCGAC...   \n",
       "3  UCCGUUGUGGUCCAACGGCUAGGAUUCGUCGCUUUCACCGACGGGA...   \n",
       "4  UGGGUUGAUGAGCGUGAAGCCUUCGCUCGGUUGGAUUUUUCUUCAU...   \n",
       "\n",
       "                                           structure  \\\n",
       "0  ((((((((......((((((((....((((((.............)...   \n",
       "1  .(((((((((.....((((((((.....((((((...............   \n",
       "2  (((((((............((((((((....(((((((((..((((...   \n",
       "3  (((((((..((((........))))((((((.......)))))).....   \n",
       "4  .(.((((...(.(.((.(.((..(.....)..)).)...(...(.....   \n",
       "\n",
       "                                          base_pairs  len  \\\n",
       "0  [[1, 111], [2, 110], [3, 109], [4, 108], [5, 1...  112   \n",
       "1  [[2, 115], [3, 114], [4, 113], [5, 112], [6, 1...  115   \n",
       "2  [[1, 345], [2, 344], [3, 343], [4, 342], [5, 3...  349   \n",
       "3  [[1, 71], [2, 70], [3, 69], [4, 68], [5, 67], ...   75   \n",
       "4  [[2, 276], [4, 274], [5, 273], [6, 272], [7, 2...  279   \n",
       "\n",
       "                                             motivos    fam  \\\n",
       "0  SSSSSSSSMMMMMMSSSSSSSSIIIISSSSSSHHHHHHHHHHHHHS...     5s   \n",
       "1  ESSSSSSSSSMMMMMSSSSSSSSIIIIISSSSSSHHHHHHHHHHHH...     5s   \n",
       "2  SSSSSSSMMMMMMMMMMMMSSSSSSSSIIIISSSSSSSSSIISSSS...  tmRNA   \n",
       "3  SSSSSSSMMSSSSHHHHHHHHSSSSSSSSSSHHHHHHHSSSSSSMM...   tRNA   \n",
       "4  ESISSSSIIISMSISSMSISSIISHHHHHSIISSISMMMSIIISHH...    srp   \n",
       "\n",
       "                                        pseudo_probe  \n",
       "0  [1, 1, 1, 1, 1, 1, 1, 1, 0, 0, 0, 0, 0, 0, 1, ...  \n",
       "1  [0, 1, 1, 1, 1, 1, 1, 1, 1, 1, 0, 0, 0, 0, 0, ...  \n",
       "2  [1, 1, 1, 1, 1, 1, 1, 0, 0, 0, 0, 0, 0, 0, 0, ...  \n",
       "3  [1, 1, 1, 1, 1, 1, 1, 0, 0, 1, 1, 1, 1, 0, 0, ...  \n",
       "4  [0, 1, 0, 1, 1, 1, 1, 0, 0, 0, 1, 0, 1, 0, 1, ...  "
      ]
     },
     "metadata": {},
     "output_type": "display_data"
    }
   ],
   "source": [
    "df = pd.read_csv('original/ArchiveII_with_motiv.csv')\n",
    "df['fam'] = df['id'].str.split('_').str[0]\n",
    "df['pseudo_probe'] = df['structure'].apply(\n",
    "    lambda s: [1 if c in ['(', ')'] else 0 for c in s]\n",
    ")\n",
    "display(df.head())\n",
    "df.to_csv('original/ArchiveII_with_prob_and_motiv.csv', index=False)"
   ]
  },
  {
   "cell_type": "code",
   "execution_count": 7,
   "id": "8acd6f15",
   "metadata": {},
   "outputs": [
    {
     "name": "stdout",
     "output_type": "stream",
     "text": [
      "                                 id  \\\n",
      "0       5s_Acholeplasma-laidlawii-1   \n",
      "1         5s_Acidovorax-temperans-1   \n",
      "2  tmRNA_Stre.gord._TRW-29390_1-349   \n",
      "\n",
      "                                            sequence  \\\n",
      "0  UCUGGUGACGAUAGGUAAGAUGGUUCACCUGUUCCCAUCCCGAACA...   \n",
      "1  UGCCUGAUGACCAUAGCAAGUUGGUACCACUCCUUCCCAUCCCGAA...   \n",
      "2  GGGGUCGUUACGGAUUCGACAGGCAUUAUGAGGCAUAUUUUGCGAC...   \n",
      "\n",
      "                                           structure  \n",
      "0  ((((((((......((((((((....((((((.............)...  \n",
      "1  .(((((((((.....((((((((.....((((((...............  \n",
      "2  (((((((............((((((((....(((((((((..((((...  \n"
     ]
    }
   ],
   "source": [
    "print(df.head(3)[['id', 'sequence', 'structure']])"
   ]
  },
  {
   "cell_type": "code",
   "execution_count": 27,
   "id": "3ed83cd5",
   "metadata": {},
   "outputs": [
    {
     "name": "stderr",
     "output_type": "stream",
     "text": [
      "/tmp/ipykernel_1027720/549935258.py:2: DeprecationWarning: DataFrameGroupBy.apply operated on the grouping columns. This behavior is deprecated, and in a future version of pandas the grouping columns will be excluded from the operation. Either pass `include_groups=False` to exclude the groupings or explicitly select the grouping columns after groupby to silence this warning.\n",
      "  .apply(lambda g: (g['pseudo_probe'].apply(sum) / g['len']).mean())\n"
     ]
    },
    {
     "data": {
      "image/png": "[encoded data removed]",
      "text/plain": [
       "<Figure size 640x480 with 1 Axes>"
      ]
     },
     "metadata": {},
     "output_type": "display_data"
    }
   ],
   "source": [
    "resultado = df.groupby('fam') \\\n",
    "    .apply(lambda g: (g['pseudo_probe'].apply(sum) / g['len']).mean())\n",
    "\n",
    "\n",
    "# Lista de familias en el orden que quieres mostrar\n",
    "families = ['5s', 'tmRNA', 'tRNA', 'srp', 'grp1', 'RNaseP', '23s', 'telomerase', '16s']\n",
    "\n",
    "# Reindexamos por si alguna falta u sobra\n",
    "resultado = resultado.reindex(families).sort_values()\n",
    "\n",
    "# Usamos un colormap de matplotlib para extraer colores distintos\n",
    "cmap = plt.get_cmap('tab10')\n",
    "color_map = {fam: cmap(i) for i, fam in enumerate(families)}\n",
    "\n",
    "# Dibujamos el gráfico de barras\n",
    "fig, ax = plt.subplots()\n",
    "ax.bar(\n",
    "    resultado.index,\n",
    "    resultado.values,\n",
    "    color=[color_map[f] for f in resultado.index]\n",
    ")\n",
    "\n",
    "# Ajustes de etiquetas\n",
    "ax.set_xlabel('Familia')\n",
    "ax.set_ylabel('Fracción media de conexiones')\n",
    "ax.set_title('Pseudo-probing medio por familia')\n",
    "ax.grid()\n",
    "plt.xticks(rotation=45, ha='right')\n",
    "plt.tight_layout()\n",
    "plt.show()\n"
   ]
  }
 ],
 "metadata": {
  "kernelspec": {
   "display_name": "Experiments",
   "language": "python",
   "name": "python3"
  },
  "language_info": {
   "codemirror_mode": {
    "name": "ipython",
    "version": 3
   },
   "file_extension": ".py",
   "mimetype": "text/x-python",
   "name": "python",
   "nbconvert_exporter": "python",
   "pygments_lexer": "ipython3",
   "version": "3.10.16"
  }
 },
 "nbformat": 4,
 "nbformat_minor": 5
}
